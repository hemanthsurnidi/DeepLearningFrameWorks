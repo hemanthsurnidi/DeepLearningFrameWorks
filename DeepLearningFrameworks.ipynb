{
  "nbformat": 4,
  "nbformat_minor": 0,
  "metadata": {
    "colab": {
      "provenance": []
    },
    "kernelspec": {
      "name": "python3",
      "display_name": "Python 3"
    },
    "language_info": {
      "name": "python"
    }
  },
  "cells": [
    {
      "cell_type": "markdown",
      "source": [
        "**THEORETICAL**"
      ],
      "metadata": {
        "id": "yPkbsT0TTu6m"
      }
    },
    {
      "cell_type": "markdown",
      "source": [
        "Q1. What is TensorFlow 2.0, and how is it different from TensorFlow 1.x?\n",
        "\n",
        "TensorFlow 2.0 is an open-source deep learning framework from Google. It enables eager execution by default, integrates Keras as the high-level API, has cleaner syntax, and provides better debugging compared to TensorFlow 1.x.\n",
        "Q2. How do you install TensorFlow 2.0?\n",
        "\n",
        "You can install TensorFlow 2.0 using:\n",
        "pip install tensorflow\n",
        "Q3. What is the primary function of tf.function in TensorFlow 2.0?\n",
        "\n",
        "It converts Python code into a TensorFlow computation graph, making execution faster and optimized.\n",
        "\n",
        "Q4. What is the purpose of the Model class in TensorFlow 2.0?\n",
        "\n",
        "The Model class in tf.keras is used to define, train, evaluate, and predict deep learning models.\n",
        "\n",
        "Q5. How do you create a neural network using TensorFlow 2.0?\n",
        "\n",
        "By using tf.keras.Sequential or subclassing tf.keras.Model, adding layers, compiling the model, and training it.\n",
        "\n",
        "Q6. What is the importance of Tensor Space in TensorFlow 2.0?\n",
        "\n",
        "Tensor space represents multi-dimensional arrays (tensors), where all computations, data storage, and weight updates happen.\n",
        "\n",
        "Q7. How can TensorBoard be integrated with TensorFlow 2.0?\n",
        "\n",
        "TensorBoard can be integrated by using TensorBoard callback during training, which logs metrics and visualizations.\n",
        "\n",
        "Q8. What is the purpose of TensorFlow Playground?\n",
        "\n",
        "It is a web-based interactive tool to visualize and experiment with neural networks, useful for learning.\n",
        "\n",
        "Q9. What is Netron, and how is it useful for deep learning models?\n",
        "\n",
        "Netron is a neural network model visualizer that supports multiple frameworks (TensorFlow, PyTorch, ONNX). It helps in understanding model architecture.\n",
        "\n",
        "Q10. What is the difference between TensorFlow and PyTorch?\n",
        "\n",
        "TensorFlow uses static graphs (dynamic in v2), is widely used in production; PyTorch uses dynamic computation graphs, is popular in research, and is more pythonic.\n",
        "\n",
        "Q11. How do you install PyTorch?\n",
        "\n",
        "You can install PyTorch using:\n",
        "\n",
        "pip install torch torchvision torchaudio\n",
        "\n",
        "Q12. What is the basic structure of a PyTorch neural network?\n",
        "\n",
        "Define a class that inherits nn.Module, initialize layers in __init__, and implement forward propagation in the forward() method.\n",
        "\n",
        "Q13. What is the significance of tensors in PyTorch?\n",
        "\n",
        "Tensors are the core data structure, similar to NumPy arrays but with GPU acceleration.\n",
        "\n",
        "Q14. What is the difference between torch.Tensor and torch.cuda.Tensor in PyTorch?\n",
        "\n",
        "torch.Tensor: Data stored on CPU.\n",
        "\n",
        "torch.cuda.Tensor: Data stored on GPU for faster computation.\n",
        "\n",
        "Q15. What is the purpose of the torch.optim module in PyTorch?\n",
        "\n",
        "It provides optimizers (SGD, Adam, etc.) to update weights during training.\n",
        "\n",
        "Q16. What are some common activation functions used in neural networks?\n",
        "\n",
        "Sigmoid, ReLU, Tanh, and Softmax.\n",
        "\n",
        "Q17. What is the difference between torch.nn.Module and torch.nn.Sequential in PyTorch?\n",
        "\n",
        "nn.Module: Flexible, allows custom models.\n",
        "\n",
        "nn.Sequential: A linear stack of layers, simpler but less flexible.\n",
        "\n",
        "Q18. How can you monitor training progress in TensorFlow 2.0?\n",
        "\n",
        "By using TensorBoard, callbacks, or plotting loss/accuracy with Matplotlib.\n",
        "\n",
        "Q19. How does the Keras API fit into TensorFlow 2.0?\n",
        "\n",
        "Keras is fully integrated as tf.keras, providing a high-level, easy-to-use API for building models.\n",
        "\n",
        "Q20. What is an example of a deep learning project that can be implemented using TensorFlow 2.0?\n",
        "\n",
        "Examples include image classification, text sentiment analysis, and speech recognition.\n",
        "\n",
        "Q21. What is the main advantage of using pre-trained models in TensorFlow and PyTorch?\n",
        "\n",
        "They save training time, require less data, and provide high accuracy through transfer learning.\n"
      ],
      "metadata": {
        "id": "ueGheR6HT506"
      }
    },
    {
      "cell_type": "markdown",
      "source": [
        "**PRACTICAL**"
      ],
      "metadata": {
        "id": "xYBMXfDRU7FA"
      }
    },
    {
      "cell_type": "code",
      "source": [
        "# Q1: Verify TensorFlow installation\n",
        "import tensorflow as tf\n",
        "print(\"TensorFlow version:\", tf.__version__)\n"
      ],
      "metadata": {
        "colab": {
          "base_uri": "https://localhost:8080/"
        },
        "id": "Xm98GGMwVAHf",
        "outputId": "99ce76f6-1f8b-4f3a-c4cd-8e377d211d35"
      },
      "execution_count": 1,
      "outputs": [
        {
          "output_type": "stream",
          "name": "stdout",
          "text": [
            "TensorFlow version: 2.19.0\n"
          ]
        }
      ]
    },
    {
      "cell_type": "code",
      "source": [
        "# Q2: Simple addition function in TensorFlow\n",
        "import tensorflow as tf\n",
        "\n",
        "@tf.function\n",
        "def add(a, b):\n",
        "    return a + b\n",
        "\n",
        "print(\"Addition result:\", add(5, 7).numpy())\n"
      ],
      "metadata": {
        "colab": {
          "base_uri": "https://localhost:8080/"
        },
        "id": "iOrcd3cbVAUl",
        "outputId": "a3b6e75e-633d-4b59-e8ff-67fca46ef0dd"
      },
      "execution_count": 2,
      "outputs": [
        {
          "output_type": "stream",
          "name": "stdout",
          "text": [
            "Addition result: 12\n"
          ]
        }
      ]
    },
    {
      "cell_type": "code",
      "source": [
        "# Q3: Simple Neural Network in TensorFlow\n",
        "import tensorflow as tf\n",
        "from tensorflow.keras import layers, models\n",
        "\n",
        "model = models.Sequential([\n",
        "    layers.Dense(8, activation='relu', input_shape=(4,)),\n",
        "    layers.Dense(3, activation='softmax')\n",
        "])\n",
        "\n",
        "model.compile(optimizer='adam', loss='categorical_crossentropy', metrics=['accuracy'])\n",
        "print(model.summary())\n"
      ],
      "metadata": {
        "colab": {
          "base_uri": "https://localhost:8080/",
          "height": 265
        },
        "id": "18NBfz94VAXc",
        "outputId": "1612a1d9-c53b-4cac-ec19-780a51789221"
      },
      "execution_count": 3,
      "outputs": [
        {
          "output_type": "stream",
          "name": "stderr",
          "text": [
            "/usr/local/lib/python3.12/dist-packages/keras/src/layers/core/dense.py:93: UserWarning: Do not pass an `input_shape`/`input_dim` argument to a layer. When using Sequential models, prefer using an `Input(shape)` object as the first layer in the model instead.\n",
            "  super().__init__(activity_regularizer=activity_regularizer, **kwargs)\n"
          ]
        },
        {
          "output_type": "display_data",
          "data": {
            "text/plain": [
              "\u001b[1mModel: \"sequential\"\u001b[0m\n"
            ],
            "text/html": [
              "<pre style=\"white-space:pre;overflow-x:auto;line-height:normal;font-family:Menlo,'DejaVu Sans Mono',consolas,'Courier New',monospace\"><span style=\"font-weight: bold\">Model: \"sequential\"</span>\n",
              "</pre>\n"
            ]
          },
          "metadata": {}
        },
        {
          "output_type": "display_data",
          "data": {
            "text/plain": [
              "┏━━━━━━━━━━━━━━━━━━━━━━━━━━━━━━━━━┳━━━━━━━━━━━━━━━━━━━━━━━━┳━━━━━━━━━━━━━━━┓\n",
              "┃\u001b[1m \u001b[0m\u001b[1mLayer (type)                   \u001b[0m\u001b[1m \u001b[0m┃\u001b[1m \u001b[0m\u001b[1mOutput Shape          \u001b[0m\u001b[1m \u001b[0m┃\u001b[1m \u001b[0m\u001b[1m      Param #\u001b[0m\u001b[1m \u001b[0m┃\n",
              "┡━━━━━━━━━━━━━━━━━━━━━━━━━━━━━━━━━╇━━━━━━━━━━━━━━━━━━━━━━━━╇━━━━━━━━━━━━━━━┩\n",
              "│ dense (\u001b[38;5;33mDense\u001b[0m)                   │ (\u001b[38;5;45mNone\u001b[0m, \u001b[38;5;34m8\u001b[0m)              │            \u001b[38;5;34m40\u001b[0m │\n",
              "├─────────────────────────────────┼────────────────────────┼───────────────┤\n",
              "│ dense_1 (\u001b[38;5;33mDense\u001b[0m)                 │ (\u001b[38;5;45mNone\u001b[0m, \u001b[38;5;34m3\u001b[0m)              │            \u001b[38;5;34m27\u001b[0m │\n",
              "└─────────────────────────────────┴────────────────────────┴───────────────┘\n"
            ],
            "text/html": [
              "<pre style=\"white-space:pre;overflow-x:auto;line-height:normal;font-family:Menlo,'DejaVu Sans Mono',consolas,'Courier New',monospace\">┏━━━━━━━━━━━━━━━━━━━━━━━━━━━━━━━━━┳━━━━━━━━━━━━━━━━━━━━━━━━┳━━━━━━━━━━━━━━━┓\n",
              "┃<span style=\"font-weight: bold\"> Layer (type)                    </span>┃<span style=\"font-weight: bold\"> Output Shape           </span>┃<span style=\"font-weight: bold\">       Param # </span>┃\n",
              "┡━━━━━━━━━━━━━━━━━━━━━━━━━━━━━━━━━╇━━━━━━━━━━━━━━━━━━━━━━━━╇━━━━━━━━━━━━━━━┩\n",
              "│ dense (<span style=\"color: #0087ff; text-decoration-color: #0087ff\">Dense</span>)                   │ (<span style=\"color: #00d7ff; text-decoration-color: #00d7ff\">None</span>, <span style=\"color: #00af00; text-decoration-color: #00af00\">8</span>)              │            <span style=\"color: #00af00; text-decoration-color: #00af00\">40</span> │\n",
              "├─────────────────────────────────┼────────────────────────┼───────────────┤\n",
              "│ dense_1 (<span style=\"color: #0087ff; text-decoration-color: #0087ff\">Dense</span>)                 │ (<span style=\"color: #00d7ff; text-decoration-color: #00d7ff\">None</span>, <span style=\"color: #00af00; text-decoration-color: #00af00\">3</span>)              │            <span style=\"color: #00af00; text-decoration-color: #00af00\">27</span> │\n",
              "└─────────────────────────────────┴────────────────────────┴───────────────┘\n",
              "</pre>\n"
            ]
          },
          "metadata": {}
        },
        {
          "output_type": "display_data",
          "data": {
            "text/plain": [
              "\u001b[1m Total params: \u001b[0m\u001b[38;5;34m67\u001b[0m (268.00 B)\n"
            ],
            "text/html": [
              "<pre style=\"white-space:pre;overflow-x:auto;line-height:normal;font-family:Menlo,'DejaVu Sans Mono',consolas,'Courier New',monospace\"><span style=\"font-weight: bold\"> Total params: </span><span style=\"color: #00af00; text-decoration-color: #00af00\">67</span> (268.00 B)\n",
              "</pre>\n"
            ]
          },
          "metadata": {}
        },
        {
          "output_type": "display_data",
          "data": {
            "text/plain": [
              "\u001b[1m Trainable params: \u001b[0m\u001b[38;5;34m67\u001b[0m (268.00 B)\n"
            ],
            "text/html": [
              "<pre style=\"white-space:pre;overflow-x:auto;line-height:normal;font-family:Menlo,'DejaVu Sans Mono',consolas,'Courier New',monospace\"><span style=\"font-weight: bold\"> Trainable params: </span><span style=\"color: #00af00; text-decoration-color: #00af00\">67</span> (268.00 B)\n",
              "</pre>\n"
            ]
          },
          "metadata": {}
        },
        {
          "output_type": "display_data",
          "data": {
            "text/plain": [
              "\u001b[1m Non-trainable params: \u001b[0m\u001b[38;5;34m0\u001b[0m (0.00 B)\n"
            ],
            "text/html": [
              "<pre style=\"white-space:pre;overflow-x:auto;line-height:normal;font-family:Menlo,'DejaVu Sans Mono',consolas,'Courier New',monospace\"><span style=\"font-weight: bold\"> Non-trainable params: </span><span style=\"color: #00af00; text-decoration-color: #00af00\">0</span> (0.00 B)\n",
              "</pre>\n"
            ]
          },
          "metadata": {}
        },
        {
          "output_type": "stream",
          "name": "stdout",
          "text": [
            "None\n"
          ]
        }
      ]
    },
    {
      "cell_type": "code",
      "source": [
        "# Q4: Visualize training with Matplotlib\n",
        "import tensorflow as tf\n",
        "import matplotlib.pyplot as plt\n",
        "from tensorflow.keras import layers, models\n",
        "\n",
        "(x_train, y_train), _ = tf.keras.datasets.mnist.load_data()\n",
        "x_train = x_train.reshape(-1, 28*28) / 255.0\n",
        "y_train = tf.keras.utils.to_categorical(y_train, 10)\n",
        "\n",
        "model = models.Sequential([\n",
        "    layers.Dense(64, activation='relu', input_shape=(784,)),\n",
        "    layers.Dense(10, activation='softmax')\n",
        "])\n",
        "model.compile(optimizer='adam', loss='categorical_crossentropy', metrics=['accuracy'])\n",
        "\n",
        "history = model.fit(x_train, y_train, epochs=5, batch_size=128, verbose=1)\n",
        "\n",
        "plt.plot(history.history['loss'], label='Loss')\n",
        "plt.plot(history.history['accuracy'], label='Accuracy')\n",
        "plt.legend()\n",
        "plt.show()\n"
      ],
      "metadata": {
        "colab": {
          "base_uri": "https://localhost:8080/",
          "height": 659
        },
        "id": "2oVCAZuPVAbH",
        "outputId": "7e934dee-7980-4074-98c8-4bcb4c8337ac"
      },
      "execution_count": 4,
      "outputs": [
        {
          "output_type": "stream",
          "name": "stdout",
          "text": [
            "Downloading data from https://storage.googleapis.com/tensorflow/tf-keras-datasets/mnist.npz\n",
            "\u001b[1m11490434/11490434\u001b[0m \u001b[32m━━━━━━━━━━━━━━━━━━━━\u001b[0m\u001b[37m\u001b[0m \u001b[1m1s\u001b[0m 0us/step\n",
            "Epoch 1/5\n",
            "\u001b[1m469/469\u001b[0m \u001b[32m━━━━━━━━━━━━━━━━━━━━\u001b[0m\u001b[37m\u001b[0m \u001b[1m5s\u001b[0m 7ms/step - accuracy: 0.8052 - loss: 0.7097\n",
            "Epoch 2/5\n",
            "\u001b[1m469/469\u001b[0m \u001b[32m━━━━━━━━━━━━━━━━━━━━\u001b[0m\u001b[37m\u001b[0m \u001b[1m5s\u001b[0m 7ms/step - accuracy: 0.9365 - loss: 0.2242\n",
            "Epoch 3/5\n",
            "\u001b[1m469/469\u001b[0m \u001b[32m━━━━━━━━━━━━━━━━━━━━\u001b[0m\u001b[37m\u001b[0m \u001b[1m4s\u001b[0m 4ms/step - accuracy: 0.9531 - loss: 0.1680\n",
            "Epoch 4/5\n",
            "\u001b[1m469/469\u001b[0m \u001b[32m━━━━━━━━━━━━━━━━━━━━\u001b[0m\u001b[37m\u001b[0m \u001b[1m2s\u001b[0m 4ms/step - accuracy: 0.9605 - loss: 0.1365\n",
            "Epoch 5/5\n",
            "\u001b[1m469/469\u001b[0m \u001b[32m━━━━━━━━━━━━━━━━━━━━\u001b[0m\u001b[37m\u001b[0m \u001b[1m3s\u001b[0m 5ms/step - accuracy: 0.9683 - loss: 0.1102\n"
          ]
        },
        {
          "output_type": "display_data",
          "data": {
            "text/plain": [
              "<Figure size 640x480 with 1 Axes>"
            ],
            "image/png": "[encoded data removed]"
          },
          "metadata": {}
        }
      ]
    },
    {
      "cell_type": "code",
      "source": [
        "# Q5: Verify PyTorch installation\n",
        "import torch\n",
        "print(\"PyTorch version:\", torch.__version__)\n",
        "print(\"CUDA available:\", torch.cuda.is_available())\n"
      ],
      "metadata": {
        "colab": {
          "base_uri": "https://localhost:8080/"
        },
        "id": "_KVVwmQWVAfX",
        "outputId": "754a109b-72ec-4a33-fb7d-48f6ab2eefc5"
      },
      "execution_count": 5,
      "outputs": [
        {
          "output_type": "stream",
          "name": "stdout",
          "text": [
            "PyTorch version: 2.8.0+cu126\n",
            "CUDA available: False\n"
          ]
        }
      ]
    },
    {
      "cell_type": "code",
      "source": [
        "# Q6: Simple Neural Network in PyTorch\n",
        "import torch\n",
        "import torch.nn as nn\n",
        "\n",
        "class SimpleNN(nn.Module):\n",
        "    def __init__(self):\n",
        "        super(SimpleNN, self).__init__()\n",
        "        self.fc1 = nn.Linear(4, 8)\n",
        "        self.relu = nn.ReLU()\n",
        "        self.fc2 = nn.Linear(8, 3)\n",
        "\n",
        "    def forward(self, x):\n",
        "        x = self.relu(self.fc1(x))\n",
        "        return self.fc2(x)\n",
        "\n",
        "model = SimpleNN()\n",
        "print(model)\n"
      ],
      "metadata": {
        "colab": {
          "base_uri": "https://localhost:8080/"
        },
        "id": "Gi7Eg-FXVAzY",
        "outputId": "71cf8821-b027-4eff-e19e-db687383afff"
      },
      "execution_count": 6,
      "outputs": [
        {
          "output_type": "stream",
          "name": "stdout",
          "text": [
            "SimpleNN(\n",
            "  (fc1): Linear(in_features=4, out_features=8, bias=True)\n",
            "  (relu): ReLU()\n",
            "  (fc2): Linear(in_features=8, out_features=3, bias=True)\n",
            ")\n"
          ]
        }
      ]
    },
    {
      "cell_type": "code",
      "source": [
        "# Q7: Define loss function and optimizer\n",
        "import torch.optim as optim\n",
        "\n",
        "model = SimpleNN()\n",
        "criterion = nn.CrossEntropyLoss()\n",
        "optimizer = optim.Adam(model.parameters(), lr=0.01)\n",
        "\n",
        "print(\"Loss function:\", criterion)\n",
        "print(\"Optimizer:\", optimizer)\n"
      ],
      "metadata": {
        "colab": {
          "base_uri": "https://localhost:8080/"
        },
        "id": "jiqRUaTbVA2l",
        "outputId": "8c8cef6d-6f35-44da-d9a9-468e7b00588e"
      },
      "execution_count": 7,
      "outputs": [
        {
          "output_type": "stream",
          "name": "stdout",
          "text": [
            "Loss function: CrossEntropyLoss()\n",
            "Optimizer: Adam (\n",
            "Parameter Group 0\n",
            "    amsgrad: False\n",
            "    betas: (0.9, 0.999)\n",
            "    capturable: False\n",
            "    decoupled_weight_decay: False\n",
            "    differentiable: False\n",
            "    eps: 1e-08\n",
            "    foreach: None\n",
            "    fused: None\n",
            "    lr: 0.01\n",
            "    maximize: False\n",
            "    weight_decay: 0\n",
            ")\n"
          ]
        }
      ]
    },
    {
      "cell_type": "code",
      "source": [
        "# Q8: Custom Loss Function in PyTorch\n",
        "import torch\n",
        "\n",
        "def custom_loss(output, target):\n",
        "    return torch.mean((output - target) ** 2)\n",
        "\n",
        "output = torch.tensor([0.8, 0.2], requires_grad=True)\n",
        "target = torch.tensor([1.0, 0.0])\n",
        "loss = custom_loss(output, target)\n",
        "\n",
        "print(\"Custom Loss:\", loss.item())\n"
      ],
      "metadata": {
        "colab": {
          "base_uri": "https://localhost:8080/"
        },
        "id": "E5slIZy7VA5q",
        "outputId": "7982b41e-9822-4775-fddb-e9ce3fd492f1"
      },
      "execution_count": 8,
      "outputs": [
        {
          "output_type": "stream",
          "name": "stdout",
          "text": [
            "Custom Loss: 0.03999999910593033\n"
          ]
        }
      ]
    },
    {
      "cell_type": "code",
      "source": [
        "# Q9: Save and load a TensorFlow model\n",
        "import tensorflow as tf\n",
        "from tensorflow.keras import layers, models\n",
        "\n",
        "model = models.Sequential([\n",
        "    layers.Dense(8, activation='relu', input_shape=(4,)),\n",
        "    layers.Dense(3, activation='softmax')\n",
        "])\n",
        "model.compile(optimizer='adam', loss='categorical_crossentropy')\n",
        "\n",
        "# Save\n",
        "model.save('my_model.h5')\n",
        "\n",
        "# Load\n",
        "loaded_model = tf.keras.models.load_model('my_model.h5')\n",
        "print(\"Model loaded successfully\")\n"
      ],
      "metadata": {
        "colab": {
          "base_uri": "https://localhost:8080/"
        },
        "id": "bNQf_erOVA8e",
        "outputId": "33f94d1f-c493-4fa3-e966-c7a76bb1c439"
      },
      "execution_count": 9,
      "outputs": [
        {
          "output_type": "stream",
          "name": "stderr",
          "text": [
            "/usr/local/lib/python3.12/dist-packages/keras/src/layers/core/dense.py:93: UserWarning: Do not pass an `input_shape`/`input_dim` argument to a layer. When using Sequential models, prefer using an `Input(shape)` object as the first layer in the model instead.\n",
            "  super().__init__(activity_regularizer=activity_regularizer, **kwargs)\n",
            "WARNING:absl:You are saving your model as an HDF5 file via `model.save()` or `keras.saving.save_model(model)`. This file format is considered legacy. We recommend using instead the native Keras format, e.g. `model.save('my_model.keras')` or `keras.saving.save_model(model, 'my_model.keras')`. \n",
            "WARNING:absl:Compiled the loaded model, but the compiled metrics have yet to be built. `model.compile_metrics` will be empty until you train or evaluate the model.\n"
          ]
        },
        {
          "output_type": "stream",
          "name": "stdout",
          "text": [
            "Model loaded successfully\n"
          ]
        }
      ]
    }
  ]
}